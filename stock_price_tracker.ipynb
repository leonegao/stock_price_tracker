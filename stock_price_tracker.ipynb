{
  "nbformat": 4,
  "nbformat_minor": 0,
  "metadata": {
    "colab": {
      "name": "stock_price_tracker.ipynb",
      "provenance": [],
      "collapsed_sections": []
    },
    "kernelspec": {
      "name": "python3",
      "display_name": "Python 3"
    }
  },
  "cells": [
    {
      "cell_type": "code",
      "metadata": {
        "id": "w1TJrK5Hv_yi",
        "colab_type": "code",
        "colab": {}
      },
      "source": [
        "#stocks predictions (LSTM) using past 60 day stocks price"
      ],
      "execution_count": null,
      "outputs": []
    },
    {
      "cell_type": "code",
      "metadata": {
        "id": "DKz1y2mVwgNo",
        "colab_type": "code",
        "colab": {
          "base_uri": "https://localhost:8080/",
          "height": 88
        },
        "outputId": "5c2c2837-d97e-45cc-9088-5ef6a6d09813"
      },
      "source": [
        "#Import the libraries\n",
        "import math\n",
        "import fix_yahoo_finance as yf\n",
        "import pandas_datareader as web\n",
        "import numpy as np\n",
        "import pandas as pd\n",
        "from keras.models import Sequential\n",
        "from keras.layers import Dense, LSTM\n",
        "import matplotlib.pyplot as plt\n",
        "from sklearn.preprocessing import MinMaxScaler\n",
        "\n",
        "plt.style.use('fivethirtyeight')"
      ],
      "execution_count": 2,
      "outputs": [
        {
          "output_type": "stream",
          "text": [
            "/usr/local/lib/python3.6/dist-packages/pandas_datareader/compat/__init__.py:7: FutureWarning: pandas.util.testing is deprecated. Use the functions in the public API at pandas.testing instead.\n",
            "  from pandas.util.testing import assert_frame_equal\n",
            "Using TensorFlow backend.\n"
          ],
          "name": "stderr"
        }
      ]
    },
    {
      "cell_type": "code",
      "metadata": {
        "id": "SnFugnF7yX0v",
        "colab_type": "code",
        "colab": {
          "base_uri": "https://localhost:8080/",
          "height": 467
        },
        "outputId": "d6ad6cc2-b564-4c59-ead4-2426871310d8"
      },
      "source": [
        "#Get the stock quote\n",
        "\n",
        "data = yf.download('BP', start = '2015-01-01', end='2020-06-17')\n",
        "data\n"
      ],
      "execution_count": 3,
      "outputs": [
        {
          "output_type": "stream",
          "text": [
            "[*********************100%***********************]  1 of 1 downloaded\n"
          ],
          "name": "stdout"
        },
        {
          "output_type": "execute_result",
          "data": {
            "text/html": [
              "<div>\n",
              "<style scoped>\n",
              "    .dataframe tbody tr th:only-of-type {\n",
              "        vertical-align: middle;\n",
              "    }\n",
              "\n",
              "    .dataframe tbody tr th {\n",
              "        vertical-align: top;\n",
              "    }\n",
              "\n",
              "    .dataframe thead th {\n",
              "        text-align: right;\n",
              "    }\n",
              "</style>\n",
              "<table border=\"1\" class=\"dataframe\">\n",
              "  <thead>\n",
              "    <tr style=\"text-align: right;\">\n",
              "      <th></th>\n",
              "      <th>Open</th>\n",
              "      <th>High</th>\n",
              "      <th>Low</th>\n",
              "      <th>Close</th>\n",
              "      <th>Adj Close</th>\n",
              "      <th>Volume</th>\n",
              "    </tr>\n",
              "    <tr>\n",
              "      <th>Date</th>\n",
              "      <th></th>\n",
              "      <th></th>\n",
              "      <th></th>\n",
              "      <th></th>\n",
              "      <th></th>\n",
              "      <th></th>\n",
              "    </tr>\n",
              "  </thead>\n",
              "  <tbody>\n",
              "    <tr>\n",
              "      <th>2015-01-02</th>\n",
              "      <td>38.209999</td>\n",
              "      <td>38.369999</td>\n",
              "      <td>37.730000</td>\n",
              "      <td>38.119999</td>\n",
              "      <td>26.496552</td>\n",
              "      <td>6290100</td>\n",
              "    </tr>\n",
              "    <tr>\n",
              "      <th>2015-01-05</th>\n",
              "      <td>36.590000</td>\n",
              "      <td>36.660000</td>\n",
              "      <td>35.630001</td>\n",
              "      <td>36.099998</td>\n",
              "      <td>25.092482</td>\n",
              "      <td>16126000</td>\n",
              "    </tr>\n",
              "    <tr>\n",
              "      <th>2015-01-06</th>\n",
              "      <td>36.009998</td>\n",
              "      <td>36.500000</td>\n",
              "      <td>35.660000</td>\n",
              "      <td>35.830002</td>\n",
              "      <td>24.904816</td>\n",
              "      <td>11575800</td>\n",
              "    </tr>\n",
              "    <tr>\n",
              "      <th>2015-01-07</th>\n",
              "      <td>36.000000</td>\n",
              "      <td>36.349998</td>\n",
              "      <td>35.660000</td>\n",
              "      <td>35.919998</td>\n",
              "      <td>24.967367</td>\n",
              "      <td>9192400</td>\n",
              "    </tr>\n",
              "    <tr>\n",
              "      <th>2015-01-08</th>\n",
              "      <td>36.430000</td>\n",
              "      <td>36.919998</td>\n",
              "      <td>36.250000</td>\n",
              "      <td>36.730000</td>\n",
              "      <td>25.530388</td>\n",
              "      <td>10789700</td>\n",
              "    </tr>\n",
              "    <tr>\n",
              "      <th>...</th>\n",
              "      <td>...</td>\n",
              "      <td>...</td>\n",
              "      <td>...</td>\n",
              "      <td>...</td>\n",
              "      <td>...</td>\n",
              "      <td>...</td>\n",
              "    </tr>\n",
              "    <tr>\n",
              "      <th>2020-06-10</th>\n",
              "      <td>26.889999</td>\n",
              "      <td>26.990000</td>\n",
              "      <td>26.280001</td>\n",
              "      <td>26.379999</td>\n",
              "      <td>26.379999</td>\n",
              "      <td>9728700</td>\n",
              "    </tr>\n",
              "    <tr>\n",
              "      <th>2020-06-11</th>\n",
              "      <td>25.080000</td>\n",
              "      <td>25.389999</td>\n",
              "      <td>24.030001</td>\n",
              "      <td>24.070000</td>\n",
              "      <td>24.070000</td>\n",
              "      <td>14777900</td>\n",
              "    </tr>\n",
              "    <tr>\n",
              "      <th>2020-06-12</th>\n",
              "      <td>25.000000</td>\n",
              "      <td>25.250000</td>\n",
              "      <td>24.209999</td>\n",
              "      <td>24.750000</td>\n",
              "      <td>24.750000</td>\n",
              "      <td>11712300</td>\n",
              "    </tr>\n",
              "    <tr>\n",
              "      <th>2020-06-15</th>\n",
              "      <td>23.469999</td>\n",
              "      <td>24.590000</td>\n",
              "      <td>23.230000</td>\n",
              "      <td>24.360001</td>\n",
              "      <td>24.360001</td>\n",
              "      <td>12731300</td>\n",
              "    </tr>\n",
              "    <tr>\n",
              "      <th>2020-06-16</th>\n",
              "      <td>24.959999</td>\n",
              "      <td>25.209999</td>\n",
              "      <td>24.209999</td>\n",
              "      <td>24.549999</td>\n",
              "      <td>24.549999</td>\n",
              "      <td>14347700</td>\n",
              "    </tr>\n",
              "  </tbody>\n",
              "</table>\n",
              "<p>1373 rows × 6 columns</p>\n",
              "</div>"
            ],
            "text/plain": [
              "                 Open       High        Low      Close  Adj Close    Volume\n",
              "Date                                                                       \n",
              "2015-01-02  38.209999  38.369999  37.730000  38.119999  26.496552   6290100\n",
              "2015-01-05  36.590000  36.660000  35.630001  36.099998  25.092482  16126000\n",
              "2015-01-06  36.009998  36.500000  35.660000  35.830002  24.904816  11575800\n",
              "2015-01-07  36.000000  36.349998  35.660000  35.919998  24.967367   9192400\n",
              "2015-01-08  36.430000  36.919998  36.250000  36.730000  25.530388  10789700\n",
              "...               ...        ...        ...        ...        ...       ...\n",
              "2020-06-10  26.889999  26.990000  26.280001  26.379999  26.379999   9728700\n",
              "2020-06-11  25.080000  25.389999  24.030001  24.070000  24.070000  14777900\n",
              "2020-06-12  25.000000  25.250000  24.209999  24.750000  24.750000  11712300\n",
              "2020-06-15  23.469999  24.590000  23.230000  24.360001  24.360001  12731300\n",
              "2020-06-16  24.959999  25.209999  24.209999  24.549999  24.549999  14347700\n",
              "\n",
              "[1373 rows x 6 columns]"
            ]
          },
          "metadata": {
            "tags": []
          },
          "execution_count": 3
        }
      ]
    },
    {
      "cell_type": "code",
      "metadata": {
        "id": "4mN97Oz3QZ_9",
        "colab_type": "code",
        "colab": {
          "base_uri": "https://localhost:8080/",
          "height": 34
        },
        "outputId": "13a28a85-ae88-44db-a33b-ea367daed923"
      },
      "source": [
        "#Get the number of rows and columns in the data set\n",
        "data.shape"
      ],
      "execution_count": 4,
      "outputs": [
        {
          "output_type": "execute_result",
          "data": {
            "text/plain": [
              "(1373, 6)"
            ]
          },
          "metadata": {
            "tags": []
          },
          "execution_count": 4
        }
      ]
    },
    {
      "cell_type": "code",
      "metadata": {
        "id": "v5cZGpI2RMEl",
        "colab_type": "code",
        "colab": {
          "base_uri": "https://localhost:8080/",
          "height": 558
        },
        "outputId": "10ab79f1-0b0d-4014-8f75-42b9bb5bd471"
      },
      "source": [
        "#Visualize the close price\n",
        "plt.figure(figsize=(16,8))\n",
        "plt.title('close Price History')\n",
        "plt.plot(data['Close'])\n",
        "plt.xlabel('Data',fontsize=18)\n",
        "plt.ylabel('Close Price USD($)',fontsize=18)\n",
        "plt.show()\n"
      ],
      "execution_count": 5,
      "outputs": [
        {
          "output_type": "display_data",
          "data": {
            "image/png": "[encoded data removed]",
            "text/plain": [
              "<Figure size 1152x576 with 1 Axes>"
            ]
          },
          "metadata": {
            "tags": []
          }
        }
      ]
    },
    {
      "cell_type": "code",
      "metadata": {
        "id": "MUc_UFkZ6d12",
        "colab_type": "code",
        "colab": {
          "base_uri": "https://localhost:8080/",
          "height": 34
        },
        "outputId": "afd0a706-0a5a-4676-ad67-d4d61e33f7c7"
      },
      "source": [
        "#Create a new dataframe with only the close colum\n",
        "data1= data.filter(['Close'])\n",
        "#Convert the dataframe to a numpy array\n",
        "dataset=data1.values\n",
        "#Get the number of rows to train the model on\n",
        "training_data_len = math.ceil(len(dataset)* .8)\n",
        "training_data_len"
      ],
      "execution_count": 6,
      "outputs": [
        {
          "output_type": "execute_result",
          "data": {
            "text/plain": [
              "1099"
            ]
          },
          "metadata": {
            "tags": []
          },
          "execution_count": 6
        }
      ]
    },
    {
      "cell_type": "code",
      "metadata": {
        "id": "6Yw4aBKu6oWH",
        "colab_type": "code",
        "colab": {
          "base_uri": "https://localhost:8080/",
          "height": 136
        },
        "outputId": "a4cf4dd8-4942-45c4-acd8-f388842c076a"
      },
      "source": [
        "#Scale the data(min,max value of the data between 0 and 1)\n",
        "scaler = MinMaxScaler(feature_range=(0,1))\n",
        "scaledData = scaler.fit_transform(dataset)\n",
        "scaledData\n"
      ],
      "execution_count": 7,
      "outputs": [
        {
          "output_type": "execute_result",
          "data": {
            "text/plain": [
              "array([[0.69476004],\n",
              "       [0.63099738],\n",
              "       [0.62247478],\n",
              "       ...,\n",
              "       [0.27272724],\n",
              "       [0.26041667],\n",
              "       [0.26641408]])"
            ]
          },
          "metadata": {
            "tags": []
          },
          "execution_count": 7
        }
      ]
    },
    {
      "cell_type": "code",
      "metadata": {
        "id": "TLyWM86vP0xH",
        "colab_type": "code",
        "colab": {
          "base_uri": "https://localhost:8080/",
          "height": 680
        },
        "outputId": "292d81e8-4ebb-4164-8523-2492ff74bf3d"
      },
      "source": [
        "#create the training data set\n",
        "#creat the scaled training data set\n",
        "train_data= scaledData[0:training_data_len , :]\n",
        "#Split the data into x_train and y_train data sets\n",
        "x_train=[]\n",
        "y_train=[]\n",
        "\n",
        "for i in range(60, len(train_data)):\n",
        "  x_train.append(train_data[i-60:i,0])\n",
        "  y_train.append(train_data[i,0])\n",
        "  if i <= 61:\n",
        "    print(x_train)\n",
        "    print(y_train)\n",
        "    print()"
      ],
      "execution_count": 9,
      "outputs": [
        {
          "output_type": "stream",
          "text": [
            "[array([0.69476004, 0.63099738, 0.62247478, 0.62531556, 0.65088381,\n",
            "       0.64614902, 0.62941913, 0.62657822, 0.61742415, 0.61931815,\n",
            "       0.68655303, 0.68118681, 0.71685603, 0.72190653, 0.71938134,\n",
            "       0.75157819, 0.76073226, 0.71875   , 0.71464643, 0.71717175,\n",
            "       0.74968434, 0.78882566, 0.76830808, 0.79766414, 0.79103526,\n",
            "       0.80492424, 0.79356057, 0.76515142, 0.79640148, 0.81502522,\n",
            "       0.81029034, 0.8093434 , 0.7916666 , 0.79450751, 0.79261364,\n",
            "       0.8042929 , 0.81439391, 0.79703283, 0.79955802, 0.79513883,\n",
            "       0.80902781, 0.80239893, 0.79135098, 0.76515142, 0.76294186,\n",
            "       0.72380051, 0.69823229, 0.6960227 , 0.67834586, 0.67676761,\n",
            "       0.68529037, 0.73358576, 0.72159091, 0.75726001, 0.75852266,\n",
            "       0.73863627, 0.7544191 , 0.74810606, 0.74179293, 0.749053  ])]\n",
            "[0.726010101010101]\n",
            "\n",
            "[array([0.69476004, 0.63099738, 0.62247478, 0.62531556, 0.65088381,\n",
            "       0.64614902, 0.62941913, 0.62657822, 0.61742415, 0.61931815,\n",
            "       0.68655303, 0.68118681, 0.71685603, 0.72190653, 0.71938134,\n",
            "       0.75157819, 0.76073226, 0.71875   , 0.71464643, 0.71717175,\n",
            "       0.74968434, 0.78882566, 0.76830808, 0.79766414, 0.79103526,\n",
            "       0.80492424, 0.79356057, 0.76515142, 0.79640148, 0.81502522,\n",
            "       0.81029034, 0.8093434 , 0.7916666 , 0.79450751, 0.79261364,\n",
            "       0.8042929 , 0.81439391, 0.79703283, 0.79955802, 0.79513883,\n",
            "       0.80902781, 0.80239893, 0.79135098, 0.76515142, 0.76294186,\n",
            "       0.72380051, 0.69823229, 0.6960227 , 0.67834586, 0.67676761,\n",
            "       0.68529037, 0.73358576, 0.72159091, 0.75726001, 0.75852266,\n",
            "       0.73863627, 0.7544191 , 0.74810606, 0.74179293, 0.749053  ]), array([0.63099738, 0.62247478, 0.62531556, 0.65088381, 0.64614902,\n",
            "       0.62941913, 0.62657822, 0.61742415, 0.61931815, 0.68655303,\n",
            "       0.68118681, 0.71685603, 0.72190653, 0.71938134, 0.75157819,\n",
            "       0.76073226, 0.71875   , 0.71464643, 0.71717175, 0.74968434,\n",
            "       0.78882566, 0.76830808, 0.79766414, 0.79103526, 0.80492424,\n",
            "       0.79356057, 0.76515142, 0.79640148, 0.81502522, 0.81029034,\n",
            "       0.8093434 , 0.7916666 , 0.79450751, 0.79261364, 0.8042929 ,\n",
            "       0.81439391, 0.79703283, 0.79955802, 0.79513883, 0.80902781,\n",
            "       0.80239893, 0.79135098, 0.76515142, 0.76294186, 0.72380051,\n",
            "       0.69823229, 0.6960227 , 0.67834586, 0.67676761, 0.68529037,\n",
            "       0.73358576, 0.72159091, 0.75726001, 0.75852266, 0.73863627,\n",
            "       0.7544191 , 0.74810606, 0.74179293, 0.749053  , 0.7260101 ])]\n",
            "[0.726010101010101, 0.7383206755050504]\n",
            "\n"
          ],
          "name": "stdout"
        }
      ]
    },
    {
      "cell_type": "code",
      "metadata": {
        "id": "N-1Rsp1LdsX9",
        "colab_type": "code",
        "colab": {}
      },
      "source": [
        "#Convert the x_train and y_train to numpy arrays\n",
        "x_train,y_train = np.array(x_train),np.array(y_train)"
      ],
      "execution_count": 10,
      "outputs": []
    },
    {
      "cell_type": "code",
      "metadata": {
        "id": "Dq7vD4NPehkf",
        "colab_type": "code",
        "colab": {
          "base_uri": "https://localhost:8080/",
          "height": 34
        },
        "outputId": "51126642-b0a1-431c-d4a8-7c75ba458340"
      },
      "source": [
        "#Reshape the data for three  dimensional array\n",
        "x_train= np.reshape(x_train, (x_train.shape[0],x_train.shape[1],1))\n",
        "x_train.shape"
      ],
      "execution_count": 11,
      "outputs": [
        {
          "output_type": "execute_result",
          "data": {
            "text/plain": [
              "(1039, 60, 1)"
            ]
          },
          "metadata": {
            "tags": []
          },
          "execution_count": 11
        }
      ]
    },
    {
      "cell_type": "code",
      "metadata": {
        "id": "mzgflaPjhoJM",
        "colab_type": "code",
        "colab": {}
      },
      "source": [
        "#Build the LSTM model\n",
        "model= Sequential()\n",
        "model.add(LSTM(50,return_sequences=True, input_shape=(x_train.shape[1],1)))\n",
        "model.add(LSTM(50,return_sequences=False))\n",
        "model.add(Dense(25))\n",
        "model.add(Dense(1))"
      ],
      "execution_count": 12,
      "outputs": []
    },
    {
      "cell_type": "code",
      "metadata": {
        "id": "CilC8EDElIha",
        "colab_type": "code",
        "colab": {}
      },
      "source": [
        "#compile the model\n",
        "model.compile(optimizer='adam',loss='mean_squared_error')"
      ],
      "execution_count": 13,
      "outputs": []
    },
    {
      "cell_type": "code",
      "metadata": {
        "id": "9KSnK_6mmGZx",
        "colab_type": "code",
        "colab": {
          "base_uri": "https://localhost:8080/",
          "height": 68
        },
        "outputId": "c62c6779-744e-448c-82d7-2771e0229ebd"
      },
      "source": [
        "#Train the model or (fit the model)\n",
        "model.fit(x_train,y_train,batch_size=1,epochs=1)"
      ],
      "execution_count": 14,
      "outputs": [
        {
          "output_type": "stream",
          "text": [
            "Epoch 1/1\n",
            "1039/1039 [==============================] - 42s 40ms/step - loss: 0.0041\n"
          ],
          "name": "stdout"
        },
        {
          "output_type": "execute_result",
          "data": {
            "text/plain": [
              "<keras.callbacks.callbacks.History at 0x7ff0af7ee9b0>"
            ]
          },
          "metadata": {
            "tags": []
          },
          "execution_count": 14
        }
      ]
    },
    {
      "cell_type": "code",
      "metadata": {
        "id": "9vPuUrdx3jVU",
        "colab_type": "code",
        "colab": {}
      },
      "source": [
        "#Create the testing data set\n",
        "#Create a new array containing scaled values from index \n",
        "test_data = scaledData[training_data_len-60: , : ]\n",
        "#Create the data  stes x_test and y_test\n",
        "x_test = []\n",
        "y_test = dataset[training_data_len: , :]\n",
        "for i in range(60,len(test_data)):\n",
        "  x_test.append(test_data[i-60:i,0])"
      ],
      "execution_count": 15,
      "outputs": []
    },
    {
      "cell_type": "code",
      "metadata": {
        "id": "1xIH1upY6UZM",
        "colab_type": "code",
        "colab": {}
      },
      "source": [
        "#Covert the data  to a numpy arry\n",
        "x_test= np.array(x_test)"
      ],
      "execution_count": 16,
      "outputs": []
    },
    {
      "cell_type": "code",
      "metadata": {
        "id": "Cc644eup7DZJ",
        "colab_type": "code",
        "colab": {}
      },
      "source": [
        "#Reshape the data\n",
        "x_test=np.reshape(x_test,(x_test.shape[0],x_test.shape[1],1))"
      ],
      "execution_count": 17,
      "outputs": []
    },
    {
      "cell_type": "code",
      "metadata": {
        "id": "KyM3ACof9o35",
        "colab_type": "code",
        "colab": {}
      },
      "source": [
        "#Get the models predicted price values\n",
        "predictions= model.predict(x_test)\n",
        "predictions=scaler.inverse_transform(predictions)"
      ],
      "execution_count": 18,
      "outputs": []
    },
    {
      "cell_type": "code",
      "metadata": {
        "id": "hsdlO0tG-xHW",
        "colab_type": "code",
        "colab": {
          "base_uri": "https://localhost:8080/",
          "height": 34
        },
        "outputId": "39a1da11-a14f-4e70-e251-31f597151046"
      },
      "source": [
        "#Get the root mean squared error (RMSE)\n",
        "rmse= np.sqrt(np.mean(predictions- y_test)**2)\n",
        "rmse"
      ],
      "execution_count": 19,
      "outputs": [
        {
          "output_type": "execute_result",
          "data": {
            "text/plain": [
              "1.171632902813765"
            ]
          },
          "metadata": {
            "tags": []
          },
          "execution_count": 19
        }
      ]
    },
    {
      "cell_type": "code",
      "metadata": {
        "id": "gnozyftaAVdZ",
        "colab_type": "code",
        "colab": {
          "base_uri": "https://localhost:8080/",
          "height": 660
        },
        "outputId": "a6abd97e-cb32-436f-c3f2-96f0ab632609"
      },
      "source": [
        "#Plot the data\n",
        "train= data[:training_data_len]\n",
        "valid= data[training_data_len:]\n",
        "valid['Prediction']=predictions\n",
        "#Visualize the data\n",
        "plt.figure(figsize=(16,8))\n",
        "plt.title('Model')\n",
        "plt.xlabel('Date',fontsize=18)\n",
        "plt.ylabel('Close Price USD ($)',fontsize=18)\n",
        "plt.plot(train['Close'])\n",
        "plt.plot(valid[['Close','Prediction']])\n",
        "plt.legend(['Train', 'Val', 'Predictions'],loc='lower right')\n",
        "plt.show()"
      ],
      "execution_count": 20,
      "outputs": [
        {
          "output_type": "stream",
          "text": [
            "/usr/local/lib/python3.6/dist-packages/ipykernel_launcher.py:4: SettingWithCopyWarning: \n",
            "A value is trying to be set on a copy of a slice from a DataFrame.\n",
            "Try using .loc[row_indexer,col_indexer] = value instead\n",
            "\n",
            "See the caveats in the documentation: https://pandas.pydata.org/pandas-docs/stable/user_guide/indexing.html#returning-a-view-versus-a-copy\n",
            "  after removing the cwd from sys.path.\n"
          ],
          "name": "stderr"
        },
        {
          "output_type": "display_data",
          "data": {
            "image/png": "[encoded data removed]",
            "text/plain": [
              "<Figure size 1152x576 with 1 Axes>"
            ]
          },
          "metadata": {
            "tags": []
          }
        }
      ]
    },
    {
      "cell_type": "code",
      "metadata": {
        "id": "kslLoLqcIpwn",
        "colab_type": "code",
        "colab": {
          "base_uri": "https://localhost:8080/",
          "height": 450
        },
        "outputId": "3022c59a-b448-46c7-815f-e362ae04bfcb"
      },
      "source": [
        "#show the valid and predicted prices\n",
        "valid"
      ],
      "execution_count": 21,
      "outputs": [
        {
          "output_type": "execute_result",
          "data": {
            "text/html": [
              "<div>\n",
              "<style scoped>\n",
              "    .dataframe tbody tr th:only-of-type {\n",
              "        vertical-align: middle;\n",
              "    }\n",
              "\n",
              "    .dataframe tbody tr th {\n",
              "        vertical-align: top;\n",
              "    }\n",
              "\n",
              "    .dataframe thead th {\n",
              "        text-align: right;\n",
              "    }\n",
              "</style>\n",
              "<table border=\"1\" class=\"dataframe\">\n",
              "  <thead>\n",
              "    <tr style=\"text-align: right;\">\n",
              "      <th></th>\n",
              "      <th>Open</th>\n",
              "      <th>High</th>\n",
              "      <th>Low</th>\n",
              "      <th>Close</th>\n",
              "      <th>Adj Close</th>\n",
              "      <th>Volume</th>\n",
              "      <th>Prediction</th>\n",
              "    </tr>\n",
              "    <tr>\n",
              "      <th>Date</th>\n",
              "      <th></th>\n",
              "      <th></th>\n",
              "      <th></th>\n",
              "      <th></th>\n",
              "      <th></th>\n",
              "      <th></th>\n",
              "      <th></th>\n",
              "    </tr>\n",
              "  </thead>\n",
              "  <tbody>\n",
              "    <tr>\n",
              "      <th>2019-05-16</th>\n",
              "      <td>41.939999</td>\n",
              "      <td>42.389999</td>\n",
              "      <td>41.930000</td>\n",
              "      <td>42.279999</td>\n",
              "      <td>39.190727</td>\n",
              "      <td>5039700</td>\n",
              "      <td>42.242897</td>\n",
              "    </tr>\n",
              "    <tr>\n",
              "      <th>2019-05-17</th>\n",
              "      <td>42.470001</td>\n",
              "      <td>42.610001</td>\n",
              "      <td>42.270000</td>\n",
              "      <td>42.340000</td>\n",
              "      <td>39.246346</td>\n",
              "      <td>4132700</td>\n",
              "      <td>42.191833</td>\n",
              "    </tr>\n",
              "    <tr>\n",
              "      <th>2019-05-20</th>\n",
              "      <td>42.580002</td>\n",
              "      <td>42.730000</td>\n",
              "      <td>42.340000</td>\n",
              "      <td>42.580002</td>\n",
              "      <td>39.468811</td>\n",
              "      <td>3859600</td>\n",
              "      <td>42.202290</td>\n",
              "    </tr>\n",
              "    <tr>\n",
              "      <th>2019-05-21</th>\n",
              "      <td>42.860001</td>\n",
              "      <td>43.000000</td>\n",
              "      <td>42.750000</td>\n",
              "      <td>42.750000</td>\n",
              "      <td>39.626389</td>\n",
              "      <td>3397200</td>\n",
              "      <td>42.269672</td>\n",
              "    </tr>\n",
              "    <tr>\n",
              "      <th>2019-05-22</th>\n",
              "      <td>42.779999</td>\n",
              "      <td>42.799999</td>\n",
              "      <td>42.290001</td>\n",
              "      <td>42.340000</td>\n",
              "      <td>39.246346</td>\n",
              "      <td>4134300</td>\n",
              "      <td>42.379753</td>\n",
              "    </tr>\n",
              "    <tr>\n",
              "      <th>...</th>\n",
              "      <td>...</td>\n",
              "      <td>...</td>\n",
              "      <td>...</td>\n",
              "      <td>...</td>\n",
              "      <td>...</td>\n",
              "      <td>...</td>\n",
              "      <td>...</td>\n",
              "    </tr>\n",
              "    <tr>\n",
              "      <th>2020-06-10</th>\n",
              "      <td>26.889999</td>\n",
              "      <td>26.990000</td>\n",
              "      <td>26.280001</td>\n",
              "      <td>26.379999</td>\n",
              "      <td>26.379999</td>\n",
              "      <td>9728700</td>\n",
              "      <td>27.246630</td>\n",
              "    </tr>\n",
              "    <tr>\n",
              "      <th>2020-06-11</th>\n",
              "      <td>25.080000</td>\n",
              "      <td>25.389999</td>\n",
              "      <td>24.030001</td>\n",
              "      <td>24.070000</td>\n",
              "      <td>24.070000</td>\n",
              "      <td>14777900</td>\n",
              "      <td>27.607740</td>\n",
              "    </tr>\n",
              "    <tr>\n",
              "      <th>2020-06-12</th>\n",
              "      <td>25.000000</td>\n",
              "      <td>25.250000</td>\n",
              "      <td>24.209999</td>\n",
              "      <td>24.750000</td>\n",
              "      <td>24.750000</td>\n",
              "      <td>11712300</td>\n",
              "      <td>27.685799</td>\n",
              "    </tr>\n",
              "    <tr>\n",
              "      <th>2020-06-15</th>\n",
              "      <td>23.469999</td>\n",
              "      <td>24.590000</td>\n",
              "      <td>23.230000</td>\n",
              "      <td>24.360001</td>\n",
              "      <td>24.360001</td>\n",
              "      <td>12731300</td>\n",
              "      <td>27.628721</td>\n",
              "    </tr>\n",
              "    <tr>\n",
              "      <th>2020-06-16</th>\n",
              "      <td>24.959999</td>\n",
              "      <td>25.209999</td>\n",
              "      <td>24.209999</td>\n",
              "      <td>24.549999</td>\n",
              "      <td>24.549999</td>\n",
              "      <td>14347700</td>\n",
              "      <td>27.462029</td>\n",
              "    </tr>\n",
              "  </tbody>\n",
              "</table>\n",
              "<p>274 rows × 7 columns</p>\n",
              "</div>"
            ],
            "text/plain": [
              "                 Open       High        Low  ...  Adj Close    Volume  Prediction\n",
              "Date                                         ...                                 \n",
              "2019-05-16  41.939999  42.389999  41.930000  ...  39.190727   5039700   42.242897\n",
              "2019-05-17  42.470001  42.610001  42.270000  ...  39.246346   4132700   42.191833\n",
              "2019-05-20  42.580002  42.730000  42.340000  ...  39.468811   3859600   42.202290\n",
              "2019-05-21  42.860001  43.000000  42.750000  ...  39.626389   3397200   42.269672\n",
              "2019-05-22  42.779999  42.799999  42.290001  ...  39.246346   4134300   42.379753\n",
              "...               ...        ...        ...  ...        ...       ...         ...\n",
              "2020-06-10  26.889999  26.990000  26.280001  ...  26.379999   9728700   27.246630\n",
              "2020-06-11  25.080000  25.389999  24.030001  ...  24.070000  14777900   27.607740\n",
              "2020-06-12  25.000000  25.250000  24.209999  ...  24.750000  11712300   27.685799\n",
              "2020-06-15  23.469999  24.590000  23.230000  ...  24.360001  12731300   27.628721\n",
              "2020-06-16  24.959999  25.209999  24.209999  ...  24.549999  14347700   27.462029\n",
              "\n",
              "[274 rows x 7 columns]"
            ]
          },
          "metadata": {
            "tags": []
          },
          "execution_count": 21
        }
      ]
    },
    {
      "cell_type": "code",
      "metadata": {
        "id": "jtn73fSjRCxC",
        "colab_type": "code",
        "colab": {
          "base_uri": "https://localhost:8080/",
          "height": 34
        },
        "outputId": "140bfd1a-f6bb-43ff-d7df-5917c0d2230e"
      },
      "source": [
        "#Get the quote\n",
        "Stocks_quote= web.DataReader('BP',data_source='yahoo',start='2015-01-01',end='2020-12-17')\n",
        "#Create a new dataframe\n",
        "new_df = Stocks_quote.filter(['Close'])\n",
        "#Get teh last 60 day closing price values and convert the dataframe to an array\n",
        "last_60_days = new_df[-60:].values\n",
        "#Scale the data to be values between 0 and 1\n",
        "last_60_days_scaled = scaler.transform(last_60_days)\n",
        "x_test = []\n",
        "#Append teh past 60 days\n",
        "x_test.append(last_60_days_scaled)\n",
        "#convert the x_test data set to a numpy array\n",
        "x_test=np.array(x_test)\n",
        "x_test= np.reshape(x_test,(x_test.shape[0],x_test.shape[1],1))\n",
        "pred_price= model.predict(x_test)\n",
        "pred_price = scaler.inverse_transform(pred_price)\n",
        "print(pred_price)"
      ],
      "execution_count": 22,
      "outputs": [
        {
          "output_type": "stream",
          "text": [
            "[[26.392454]]\n"
          ],
          "name": "stdout"
        }
      ]
    }
  ]
}